{
 "cells": [
  {
   "cell_type": "code",
   "execution_count": 1,
   "metadata": {},
   "outputs": [
    {
     "name": "stderr",
     "output_type": "stream",
     "text": [
      "Using TensorFlow backend.\n"
     ]
    }
   ],
   "source": [
    "import keras"
   ]
  },
  {
   "cell_type": "code",
   "execution_count": 2,
   "metadata": {},
   "outputs": [],
   "source": [
    "from keras.layers.core import Activation, Dense, Dropout, SpatialDropout1D\n",
    "from keras.layers.embeddings import Embedding\n",
    "from keras.layers.recurrent import LSTM\n",
    "from keras.models import Sequential\n",
    "from keras.preprocessing import sequence\n",
    "from sklearn.model_selection import train_test_split\n",
    "import collections\n",
    "import matplotlib.pyplot as plt\n",
    "import nltk\n",
    "import numpy as np\n",
    "import os\n",
    "from nltk.corpus import nps_chat\n",
    "from sklearn.preprocessing import LabelBinarizer"
   ]
  },
  {
   "cell_type": "code",
   "execution_count": 3,
   "metadata": {},
   "outputs": [],
   "source": [
    "def get_dialogue_data(output_file):\n",
    "    open(output_file,'w').close();\n",
    "    posts=nps_chat.xml_posts()\n",
    "    with open(output_file,'a') as fileWrite:\n",
    "        for post in posts:\n",
    "            fileWrite.write(post.text+'\\t'+post.get('class').lower())\n",
    "            fileWrite.write('\\n')\n",
    "            \n",
    "get_dialogue_data(\"nps_chat_data.txt\")"
   ]
  },
  {
   "cell_type": "code",
   "execution_count": 4,
   "metadata": {},
   "outputs": [],
   "source": [
    "maxlen = 0\n",
    "word_freqs = collections.Counter()\n",
    "num_recs = 0\n",
    "labels=[]\n",
    "ftrain = open(os.path.join(\"nps_chat_data.txt\"), 'rb')\n",
    "for line in ftrain:\n",
    "    line=str(line.decode('ascii',\"ignore\").lower().strip())\n",
    "    line.strip().split(\"\\t\")\n",
    "    label, sentence = line.strip().split(\"\\t\")[1], line.strip().split(\"\\t\")[0]\n",
    "    words = nltk.word_tokenize(sentence)\n",
    "    labels.append(label)\n",
    "    if len(words) > maxlen:\n",
    "        maxlen = len(words)\n",
    "    for word in words:\n",
    "        word_freqs[word] += 1\n",
    "    num_recs += 1\n",
    "ftrain.close()\n",
    "labels=list(set(labels))\n",
    "classes=len(labels)\n"
   ]
  },
  {
   "cell_type": "code",
   "execution_count": 5,
   "metadata": {},
   "outputs": [],
   "source": [
    "MAX_FEATURES = 6000\n",
    "MAX_SENTENCE_LENGTH = 85"
   ]
  },
  {
   "cell_type": "code",
   "execution_count": 6,
   "metadata": {},
   "outputs": [],
   "source": [
    "vocab_size = min(MAX_FEATURES, len(word_freqs)) + 2\n",
    "word2index = {x[0]: i+2 for i, x in enumerate(word_freqs.most_common(MAX_FEATURES))}\n",
    "word2index[\"PAD\"] = 0\n",
    "word2index[\"UNK\"] = 1\n",
    "index2word = {v:k for k, v in word2index.items()}"
   ]
  },
  {
   "cell_type": "code",
   "execution_count": 7,
   "metadata": {},
   "outputs": [],
   "source": [
    "X = np.empty((num_recs, ), dtype=list)\n",
    "y = np.empty((num_recs, ), dtype=list)\n",
    "i = 0\n",
    "ftrain = open(os.path.join(\"nps_chat_data.txt\"), 'rb')\n",
    "for line in ftrain:\n",
    "    line=str(line.decode('ascii',\"ignore\").lower().strip())\n",
    "    line.strip().split(\"\\t\")\n",
    "    label, sentence = line.strip().split(\"\\t\")[1], line.strip().split(\"\\t\")[0]\n",
    "    words = nltk.word_tokenize(sentence)\n",
    "    seqs = []\n",
    "    for word in words:\n",
    "        #print(word)\n",
    "        if word in word2index:\n",
    "            seqs.append(word2index[word])\n",
    "        else:\n",
    "            seqs.append(word2index[\"UNK\"])\n",
    "    X[i] = seqs\n",
    "    y[i] = label\n",
    "    i += 1\n",
    "ftrain.close()\n",
    "X = sequence.pad_sequences(X, maxlen=MAX_SENTENCE_LENGTH)\n",
    "encoder = LabelBinarizer()\n",
    "Y = encoder.fit_transform(y)"
   ]
  },
  {
   "cell_type": "code",
   "execution_count": 8,
   "metadata": {},
   "outputs": [],
   "source": [
    "Xtrain, Xtest, ytrain, ytest = train_test_split(X, Y, test_size=0.2, random_state=42)"
   ]
  },
  {
   "cell_type": "code",
   "execution_count": 9,
   "metadata": {},
   "outputs": [],
   "source": [
    "EMBEDDING_SIZE = 128\n",
    "HIDDEN_LAYER_SIZE = 64\n",
    "BATCH_SIZE = 32\n",
    "NUM_EPOCHS = 10\n",
    "model = Sequential()\n",
    "model.add(Embedding(vocab_size, EMBEDDING_SIZE,input_length=MAX_SENTENCE_LENGTH))\n",
    "model.add(LSTM(HIDDEN_LAYER_SIZE, dropout=0.2, recurrent_dropout=0.2))\n",
    "model.add(Dense(15))\n",
    "#model.add(Activation(\"sigmoid\"))\n",
    "model.add(Activation(\"softmax\"))\n",
    "\n",
    "model.compile(loss=\"categorical_crossentropy\", optimizer=\"adam\",metrics=[\"accuracy\"])"
   ]
  },
  {
   "cell_type": "code",
   "execution_count": 10,
   "metadata": {},
   "outputs": [
    {
     "name": "stdout",
     "output_type": "stream",
     "text": [
      "Train on 8453 samples, validate on 2114 samples\n",
      "Epoch 1/10\n",
      "8453/8453 [==============================] - 24s 3ms/step - loss: 1.4483 - acc: 0.5822 - val_loss: 0.9128 - val_acc: 0.7441\n",
      "Epoch 2/10\n",
      "8453/8453 [==============================] - 24s 3ms/step - loss: 0.7383 - acc: 0.7955 - val_loss: 0.7207 - val_acc: 0.8004\n",
      "Epoch 3/10\n",
      "8453/8453 [==============================] - 25s 3ms/step - loss: 0.5138 - acc: 0.8592 - val_loss: 0.6947 - val_acc: 0.8179\n",
      "Epoch 4/10\n",
      "8453/8453 [==============================] - 25s 3ms/step - loss: 0.3784 - acc: 0.8934 - val_loss: 0.6664 - val_acc: 0.8240\n",
      "Epoch 5/10\n",
      "8453/8453 [==============================] - 25s 3ms/step - loss: 0.2957 - acc: 0.9165 - val_loss: 0.6791 - val_acc: 0.8269\n",
      "Epoch 6/10\n",
      "8453/8453 [==============================] - 25s 3ms/step - loss: 0.2305 - acc: 0.9371 - val_loss: 0.7092 - val_acc: 0.8165\n",
      "Epoch 7/10\n",
      "8453/8453 [==============================] - 25s 3ms/step - loss: 0.1804 - acc: 0.9490 - val_loss: 0.7293 - val_acc: 0.8212\n",
      "Epoch 8/10\n",
      "8453/8453 [==============================] - 26s 3ms/step - loss: 0.1550 - acc: 0.9576 - val_loss: 0.7659 - val_acc: 0.8231\n",
      "Epoch 9/10\n",
      "8453/8453 [==============================] - 25s 3ms/step - loss: 0.1266 - acc: 0.9663 - val_loss: 0.7849 - val_acc: 0.8132\n",
      "Epoch 10/10\n",
      "8453/8453 [==============================] - 25s 3ms/step - loss: 0.1070 - acc: 0.9694 - val_loss: 0.8468 - val_acc: 0.8046\n"
     ]
    },
    {
     "data": {
      "text/plain": [
       "<keras.callbacks.History at 0x2312848a6d8>"
      ]
     },
     "execution_count": 10,
     "metadata": {},
     "output_type": "execute_result"
    }
   ],
   "source": [
    "model.fit(Xtrain, ytrain, batch_size=BATCH_SIZE, epochs=NUM_EPOCHS,validation_data=[Xtest, ytest])"
   ]
  },
  {
   "cell_type": "code",
   "execution_count": 11,
   "metadata": {},
   "outputs": [
    {
     "name": "stdout",
     "output_type": "stream",
     "text": [
      "2114/2114 [==============================] - 1s 532us/step\n",
      "Test score: 0.847, accuracy: 0.805\n"
     ]
    }
   ],
   "source": [
    "score, acc = model.evaluate(Xtest, ytest, batch_size=BATCH_SIZE)\n",
    "print(\"Test score: %.3f, accuracy: %.3f\" % (score, acc))"
   ]
  }
 ],
 "metadata": {
  "kernelspec": {
   "display_name": "Python 3",
   "language": "python",
   "name": "python3"
  },
  "language_info": {
   "codemirror_mode": {
    "name": "ipython",
    "version": 3
   },
   "file_extension": ".py",
   "mimetype": "text/x-python",
   "name": "python",
   "nbconvert_exporter": "python",
   "pygments_lexer": "ipython3",
   "version": "3.5.4"
  }
 },
 "nbformat": 4,
 "nbformat_minor": 2
}
